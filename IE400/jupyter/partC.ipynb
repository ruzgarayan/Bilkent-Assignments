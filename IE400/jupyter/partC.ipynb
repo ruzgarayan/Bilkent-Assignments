{
 "cells": [
  {
   "cell_type": "code",
   "execution_count": 1,
   "id": "efb7bf32",
   "metadata": {},
   "outputs": [],
   "source": [
    "import gurobipy as gp"
   ]
  },
  {
   "cell_type": "code",
   "execution_count": 2,
   "id": "9c058303",
   "metadata": {},
   "outputs": [],
   "source": [
    "from gurobipy import GRB\n",
    "from gurobipy import quicksum"
   ]
  },
  {
   "cell_type": "code",
   "execution_count": 3,
   "id": "4e5a51a1",
   "metadata": {},
   "outputs": [
    {
     "name": "stdout",
     "output_type": "stream",
     "text": [
      "Set parameter Username\n",
      "Academic license - for non-commercial use only - expires 2022-02-12\n"
     ]
    }
   ],
   "source": [
    "m = gp.Model()"
   ]
  },
  {
   "cell_type": "code",
   "execution_count": 4,
   "id": "b9c5e21f",
   "metadata": {},
   "outputs": [],
   "source": [
    "Y = {}\n",
    "for i in range(1,8):\n",
    "    Y[i] = m.addVar(vtype=GRB.BINARY, name=\"Y\"+str(i))"
   ]
  },
  {
   "cell_type": "code",
   "execution_count": 5,
   "id": "2ead3080",
   "metadata": {},
   "outputs": [],
   "source": [
    "I = {}\n",
    "for i in range(1,8):\n",
    "    I[i] = m.addVar(vtype=GRB.CONTINUOUS, name=\"I\"+str(i))\n",
    "    \n",
    "D = {}\n",
    "for i in range(1,8):\n",
    "    D[i] = m.addVar(vtype=GRB.CONTINUOUS, name=\"D\"+str(i))\n",
    "    \n",
    "X = {}\n",
    "for i in range(1,8):\n",
    "    X[i] = m.addVar(vtype=GRB.CONTINUOUS, name=\"X\"+str(i))\n",
    "\n",
    "A = m.addVar(vtype=GRB.BINARY, name=\"A\")\n",
    "B = m.addVar(vtype=GRB.BINARY, name=\"B\")\n",
    "C = m.addVar(vtype=GRB.BINARY, name=\"C\")\n",
    "E = m.addVar(vtype=GRB.BINARY, name=\"E\")"
   ]
  },
  {
   "cell_type": "code",
   "execution_count": 6,
   "id": "310a5781",
   "metadata": {},
   "outputs": [],
   "source": [
    "P = {1:1, 2:0, 3:1, 4:0, 5:0, 6:0, 7:0, 8:0, 9:1}\n",
    "QOL_P_parameters = {1:-5, 2:-0.5, 3:-12, 4:-8, 5:-5, 6:-5, 7:-1, 8:-3, 9:-2}\n",
    "QOL_Y_parameters = {1:-5, 2:-6, 3:-4, 4:-4, 5:-8, 6:-6, 7:-7}\n",
    "QOL_X_parameters = {1:0.28, 2:0.30, 3:0.25, 4:0.17, 5:0.31, 6:0.246, 7:0.40}\n",
    "\n",
    "minDosages = {1:20, 2:10, 3:20, 4:10, 5:10, 6:20, 7:20}\n",
    "maxDosages = {1:80, 2:50, 3:100, 4:100, 5:70, 6:90, 7:50}\n",
    "baseRegimenDosages = {1:20, 2:0, 3:30, 4:15, 5:0, 6:0, 7:35}\n",
    "totalDosageCl = 275\n",
    "\n",
    "Q_threshold = 35\n",
    "\n",
    "fixedCosts = {1:25, 2:50, 3:10, 4:25, 5:20, 6:30, 7:40}\n",
    "unitCosts = {1:1, 2:2, 3:1, 4:3, 5:2, 6:1, 7:1}\n",
    " \n",
    "M = 10000"
   ]
  },
  {
   "cell_type": "code",
   "execution_count": 7,
   "id": "51c3fa39",
   "metadata": {},
   "outputs": [],
   "source": [
    "isDrugInBaseRegimen = {1:True, 2:False, 3:True, 4:True, 5:False, 6:False, 7:True}\n",
    "m.setObjective( quicksum([(fixedCosts[i] * (1 - Y[i]) if isDrugInBaseRegimen[i] else fixedCosts[i] * Y[i]) for i in range(1,8)])\n",
    "               + quicksum([unitCosts[i] * (I[i] + D[i]) for i in range(1,8)])\n",
    "               , GRB.MINIMIZE)"
   ]
  },
  {
   "cell_type": "code",
   "execution_count": 8,
   "id": "cbe7fda9",
   "metadata": {},
   "outputs": [],
   "source": [
    "helperXConstraints = {}\n",
    "minDrugConstraint = {}\n",
    "maxDrugConstraint = {}\n",
    "for i in range(1,8):\n",
    "    helperXConstraints[i] = m.addConstr(X[i] == baseRegimenDosages[i] + I[i] - D[i])\n",
    "    minDrugConstraint[i] = m.addConstr(X[i] >= minDosages[i] * Y[i])\n",
    "    maxDrugConstraint[i] = m.addConstr(X[i] <= maxDosages[i] * Y[i])\n",
    "    \n",
    "totalDosageConstraint = m.addConstr(quicksum([X[i] for i in range(1,8)]) == totalDosageCl)\n",
    "\n",
    "QOFConstraint = m.addConstr(quicksum([QOL_P_parameters[i] * P[i] for i in range(1,10)])\n",
    "                            + quicksum([QOL_Y_parameters[i] * Y[i] for i in range(1,8)])\n",
    "                            + quicksum([QOL_X_parameters[i] * X[i] for i in range(1,8)])\n",
    "                            >= Q_threshold\n",
    ")\n",
    "\n",
    "extraContstraint1_1 = m.addConstr(Y[1] + Y[2] - 1 <= M * A)\n",
    "extraContstraint1_2 = m.addConstr(50 - X[1] - X[2] <= M * (1 - A))\n",
    "\n",
    "extraContstraint2_1 = m.addConstr(Y[1] + Y[2] - 1 <= M * B)\n",
    "extraContstraint2_2 = m.addConstr(X[1] + X[2] - 70 <= M * (1 - B))\n",
    "\n",
    "extraContstraint3_1 = m.addConstr(1 - Y[5] <= M * C)\n",
    "extraContstraint3_2 = m.addConstr(X[3] - 25 <= M * (1 - C))\n",
    "\n",
    "extraContstraint4_1 = m.addConstr(Y[4] + Y[6] - 1 <= M * E)\n",
    "extraContstraint4_2 = m.addConstr(1 - Y[5] - Y[7] <= M * (1 - E))"
   ]
  },
  {
   "cell_type": "code",
   "execution_count": 9,
   "id": "d022b696",
   "metadata": {},
   "outputs": [
    {
     "name": "stdout",
     "output_type": "stream",
     "text": [
      "Gurobi Optimizer version 9.5.0 build v9.5.0rc5 (win64)\n",
      "Thread count: 6 physical cores, 12 logical processors, using up to 12 threads\n",
      "Optimize a model with 31 rows, 32 columns and 92 nonzeros\n",
      "Model fingerprint: 0x1c9c3aad\n",
      "Variable types: 21 continuous, 11 integer (11 binary)\n",
      "Coefficient statistics:\n",
      "  Matrix range     [2e-01, 1e+04]\n",
      "  Objective range  [1e+00, 5e+01]\n",
      "  Bounds range     [1e+00, 1e+00]\n",
      "  RHS range        [1e+00, 1e+04]\n",
      "Presolve removed 4 rows and 11 columns\n",
      "Presolve time: 0.00s\n",
      "Presolved: 27 rows, 21 columns, 78 nonzeros\n",
      "Variable types: 11 continuous, 10 integer (10 binary)\n",
      "Found heuristic solution: objective 425.7812500\n",
      "\n",
      "Root relaxation: objective 2.349547e+02, 11 iterations, 0.00 seconds (0.00 work units)\n",
      "\n",
      "    Nodes    |    Current Node    |     Objective Bounds      |     Work\n",
      " Expl Unexpl |  Obj  Depth IntInf | Incumbent    BestBd   Gap | It/Node Time\n",
      "\n",
      "     0     0  234.95474    0    2  425.78125  234.95474  44.8%     -    0s\n",
      "H    0     0                     325.0000000  234.95474  27.7%     -    0s\n",
      "H    0     0                     282.5000000  259.75000  8.05%     -    0s\n",
      "     0     0  282.50000    0    4  282.50000  282.50000  0.00%     -    0s\n",
      "\n",
      "Cutting planes:\n",
      "  Gomory: 1\n",
      "  Cover: 1\n",
      "  Implied bound: 2\n",
      "  MIR: 3\n",
      "  Flow cover: 2\n",
      "\n",
      "Explored 1 nodes (25 simplex iterations) in 0.02 seconds (0.00 work units)\n",
      "Thread count was 12 (of 12 available processors)\n",
      "\n",
      "Solution count 3: 282.5 325 425.781 \n",
      "\n",
      "Optimal solution found (tolerance 1.00e-04)\n",
      "Best objective 2.825000000000e+02, best bound 2.825000000000e+02, gap 0.0000%\n"
     ]
    }
   ],
   "source": [
    "m.optimize()"
   ]
  },
  {
   "cell_type": "code",
   "execution_count": 10,
   "id": "2998c160",
   "metadata": {},
   "outputs": [
    {
     "name": "stdout",
     "output_type": "stream",
     "text": [
      "\n",
      "    Variable            X \n",
      "-------------------------\n",
      "          Y1            1 \n",
      "          Y3            1 \n",
      "          Y4            1 \n",
      "          Y5            1 \n",
      "          Y7            1 \n",
      "          I1           60 \n",
      "          I3       34.375 \n",
      "          I5           70 \n",
      "          I7           15 \n",
      "          D4        4.375 \n",
      "          X1           80 \n",
      "          X3       64.375 \n",
      "          X4       10.625 \n",
      "          X5           70 \n",
      "          X7           50 \n",
      "           E            1 \n"
     ]
    }
   ],
   "source": [
    "m.printAttr('X')"
   ]
  }
 ],
 "metadata": {
  "kernelspec": {
   "display_name": "Python 3 (ipykernel)",
   "language": "python",
   "name": "python3"
  },
  "language_info": {
   "codemirror_mode": {
    "name": "ipython",
    "version": 3
   },
   "file_extension": ".py",
   "mimetype": "text/x-python",
   "name": "python",
   "nbconvert_exporter": "python",
   "pygments_lexer": "ipython3",
   "version": "3.7.11"
  }
 },
 "nbformat": 4,
 "nbformat_minor": 5
}
