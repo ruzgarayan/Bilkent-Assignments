{
 "cells": [
  {
   "cell_type": "code",
   "execution_count": 1,
   "id": "efb7bf32",
   "metadata": {},
   "outputs": [],
   "source": [
    "import gurobipy as gp"
   ]
  },
  {
   "cell_type": "code",
   "execution_count": 2,
   "id": "9c058303",
   "metadata": {},
   "outputs": [],
   "source": [
    "from gurobipy import GRB\n",
    "from gurobipy import quicksum"
   ]
  },
  {
   "cell_type": "code",
   "execution_count": 3,
   "id": "4e5a51a1",
   "metadata": {},
   "outputs": [
    {
     "name": "stdout",
     "output_type": "stream",
     "text": [
      "Set parameter Username\n",
      "Academic license - for non-commercial use only - expires 2022-02-12\n"
     ]
    }
   ],
   "source": [
    "m = gp.Model()"
   ]
  },
  {
   "cell_type": "code",
   "execution_count": 4,
   "id": "b9c5e21f",
   "metadata": {},
   "outputs": [],
   "source": [
    "X = {}\n",
    "for i in range(1,8):\n",
    "    X[i] = m.addVar(vtype=GRB.CONTINUOUS, name=\"X\"+str(i))"
   ]
  },
  {
   "cell_type": "code",
   "execution_count": 5,
   "id": "310a5781",
   "metadata": {},
   "outputs": [],
   "source": [
    "P = {1:1, 2:0, 3:1, 4:0, 5:0, 6:0, 7:0, 8:0, 9:1}\n",
    "Y = {1:1, 2:0, 3:1, 4:1, 5:0, 6:0, 7:1}\n",
    "minDosages = {1:20, 2:10, 3:20, 4:10, 5:10, 6:20, 7:20}\n",
    "maxDosages = {1:80, 2:50, 3:100, 4:100, 5:70, 6:90, 7:50}\n",
    "totalDosageCl = 100"
   ]
  },
  {
   "cell_type": "code",
   "execution_count": 6,
   "id": "e9ab695f",
   "metadata": {},
   "outputs": [],
   "source": [
    "m.setObjective(5*-P[1] + 0.5*-P[2] + 12*-P[3] + 8*-P[4] + 5*-P[5] + 5*-P[6] + 1*-P[7] + 3*-P[8] + 2*-P[9]\n",
    "               + 5*-Y[1] + 6*-Y[2] + 4*-Y[3] + 4*-Y[4] + 8*-Y[5] + 6*-Y[6] + 7*-Y[7]\n",
    "               + 0.28*X[1] + 0.30*X[2] + 0.25*X[3] + 0.17*X[4] + 0.31*X[5] + 0.246*X[6] + 0.40*X[7]\n",
    "               , GRB.MAXIMIZE)"
   ]
  },
  {
   "cell_type": "code",
   "execution_count": 7,
   "id": "ce7b5c13",
   "metadata": {},
   "outputs": [],
   "source": [
    "fixX2 = m.addConstr(X[2] == 0)\n",
    "fixX5 = m.addConstr(X[5] == 0)\n",
    "fixX6 = m.addConstr(X[6] == 0)"
   ]
  },
  {
   "cell_type": "code",
   "execution_count": 8,
   "id": "cbe7fda9",
   "metadata": {},
   "outputs": [],
   "source": [
    "minX1 = m.addConstr(X[1] >= minDosages[1])\n",
    "maxX1 = m.addConstr(X[1] <= maxDosages[1])\n",
    "\n",
    "minX3 = m.addConstr(X[3] >= minDosages[3])\n",
    "maxX3 = m.addConstr(X[3] <= maxDosages[3])\n",
    "\n",
    "minX4 = m.addConstr(X[4] >= minDosages[4])\n",
    "maxX4 = m.addConstr(X[4] <= maxDosages[4])\n",
    "\n",
    "minX7 = m.addConstr(X[7] >= minDosages[7])\n",
    "maxX7 = m.addConstr(X[7] <= maxDosages[7])"
   ]
  },
  {
   "cell_type": "code",
   "execution_count": 9,
   "id": "bb4c642b",
   "metadata": {},
   "outputs": [],
   "source": [
    "totalDosage = m.addConstr(quicksum([X[i] for i in range(1,8)]) == totalDosageCl)"
   ]
  },
  {
   "cell_type": "code",
   "execution_count": 10,
   "id": "d022b696",
   "metadata": {},
   "outputs": [
    {
     "name": "stdout",
     "output_type": "stream",
     "text": [
      "Gurobi Optimizer version 9.5.0 build v9.5.0rc5 (win64)\n",
      "Thread count: 6 physical cores, 12 logical processors, using up to 12 threads\n",
      "Optimize a model with 12 rows, 7 columns and 18 nonzeros\n",
      "Model fingerprint: 0x28eab7aa\n",
      "Coefficient statistics:\n",
      "  Matrix range     [1e+00, 1e+00]\n",
      "  Objective range  [2e-01, 4e-01]\n",
      "  Bounds range     [0e+00, 0e+00]\n",
      "  RHS range        [1e+01, 1e+02]\n",
      "Presolve removed 12 rows and 7 columns\n",
      "Presolve time: 0.00s\n",
      "Presolve: All rows and columns removed\n",
      "Iteration    Objective       Primal Inf.    Dual Inf.      Time\n",
      "       0   -6.7000000e+00   0.000000e+00   0.000000e+00      0s\n",
      "\n",
      "Solved in 0 iterations and 0.01 seconds (0.00 work units)\n",
      "Optimal objective -6.700000000e+00\n"
     ]
    }
   ],
   "source": [
    "m.optimize()"
   ]
  },
  {
   "cell_type": "code",
   "execution_count": 11,
   "id": "2998c160",
   "metadata": {},
   "outputs": [
    {
     "name": "stdout",
     "output_type": "stream",
     "text": [
      "\n",
      "    Variable            X \n",
      "-------------------------\n",
      "          X1           20 \n",
      "          X3           20 \n",
      "          X4           10 \n",
      "          X7           50 \n"
     ]
    }
   ],
   "source": [
    "m.printAttr('X')"
   ]
  }
 ],
 "metadata": {
  "kernelspec": {
   "display_name": "Python 3 (ipykernel)",
   "language": "python",
   "name": "python3"
  },
  "language_info": {
   "codemirror_mode": {
    "name": "ipython",
    "version": 3
   },
   "file_extension": ".py",
   "mimetype": "text/x-python",
   "name": "python",
   "nbconvert_exporter": "python",
   "pygments_lexer": "ipython3",
   "version": "3.7.11"
  }
 },
 "nbformat": 4,
 "nbformat_minor": 5
}
